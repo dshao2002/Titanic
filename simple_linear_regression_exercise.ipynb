{
  "cells": [
    {
      "cell_type": "markdown",
      "metadata": {
        "id": "view-in-github",
        "colab_type": "text"
      },
      "source": [
        "<a href=\"https://colab.research.google.com/github/thinkinginmath/ML-tutorials/blob/main/simple_linear_regression_exercise.ipynb\" target=\"_parent\"><img src=\"https://colab.research.google.com/assets/colab-badge.svg\" alt=\"Open In Colab\"/></a>"
      ]
    },
    {
      "cell_type": "markdown",
      "metadata": {
        "id": "5hBDq4MoAnMy"
      },
      "source": [
        "# Simple Linear Regression Exercise\n",
        "\n",
        "In this notebook, we'll generate and analyze a dataset based on the model:\n",
        "\n",
        "$$ Y = 2 + 3.5X + e $$\n",
        "\n",
        "where $ e $ is a random error term.\n",
        "\n",
        "It helps to illustrate some basic facts on ordinary linear regression. The goal of OLS is to minimize the sum of the squared differences (residuals) between the observed values (dependent variable) and the values predicted by the model. Mathematically, if $y$ is the observed value, and\n",
        "$\\hat{y}$\n",
        "  is the predicted value, OLS tries to minimize:\n",
        "$$ \\sum (y-\\hat{y})^2$$\n"
      ],
      "id": "5hBDq4MoAnMy"
    },
    {
      "cell_type": "markdown",
      "source": [
        "# What python package to use for OLS?\n",
        "\n",
        "Both `statsmodels.api` and `scikit-learn` are popular libraries in Python for linear regression, but they cater to somewhat different use cases and audiences. Here's a comparison of their pros and cons:\n",
        "\n",
        "### `statsmodels.api`\n",
        "\n",
        "#### Pros:\n",
        "\n",
        "1. **Detailed Statistics**: `statsmodels` provides detailed summary statistics for the model, which include **p-values**, **confidence intervals**, **information criteria** (like AIC and BIC), and many other diagnostics. This is particularly useful for hypothesis testing and inferential purposes.\n",
        "\n",
        "2. **Formula Interface**: Through the `formula.api`, `statsmodels` allows for the specification of models using R-like formulas, which can be very intuitive for users coming from a statistical background or for those who are familiar with R.\n",
        "\n",
        "3. **Diverse Methods**: Beyond just linear regression, `statsmodels` offers a wide variety of statistical models, such as generalized linear models (GLM), robust linear models, and many more.\n",
        "\n",
        "4. **Diagnostic Tools**: `statsmodels` has built-in functions for plotting residuals, leverage, influence points, etc., which are essential for diagnosing linear regression models.\n",
        "\n",
        "#### Cons:\n",
        "\n",
        "1. **Less User-Friendly for Machine Learning**: While it's powerful for statistical modeling, `statsmodels` isn't geared specifically for machine learning workflows. For example, it doesn't integrate as seamlessly with tools like `GridSearchCV` or `Pipeline` in scikit-learn.\n",
        "\n",
        "2. **Performance**: For very large datasets or for applications requiring real-time predictions, `statsmodels` might not be as performant as other ML-focused libraries.\n",
        "\n",
        "### `scikit-learn`\n",
        "\n",
        "#### Pros:\n",
        "\n",
        "1. **Machine Learning Ecosystem**: `scikit-learn` is built specifically for machine learning. This means it integrates smoothly with other tools in the ML ecosystem, is designed for predictive modeling, and offers utilities for tasks like cross-validation, grid search, and pipelines.\n",
        "\n",
        "2. **Consistency Across Algorithms**: One of the strengths of `scikit-learn` is its consistent API. Once you understand how to use one algorithm, using others becomes intuitive. This consistency can make it easier to switch between models or combine them.\n",
        "\n",
        "3. **Performance**: `scikit-learn` is optimized for performance, especially with large datasets.\n",
        "\n",
        "4. **Preprocessing Tools**: `scikit-learn` offers a wide array of tools for data preprocessing, feature selection, and feature extraction.\n",
        "\n",
        "#### Cons:\n",
        "\n",
        "1. **Less Detailed Statistics**: Unlike `statsmodels`, `scikit-learn` doesn't provide detailed statistical summaries out of the box. While you can compute most of these statistics manually, it requires extra effort.\n",
        "\n",
        "2. **No Formula Interface**: The library doesn't support the R-like formula interface that some users might find convenient.\n",
        "\n",
        "### Others (e.g., `tensorflow`, `pytorch`):\n",
        "\n",
        "There are other libraries like TensorFlow, PyTorch, etc., which are primarily deep learning libraries but can also be used for linear regression.\n",
        "\n",
        "#### Pros:\n",
        "\n",
        "1. **Flexibility**: Can build custom loss functions, custom layers, and more complex models beyond simple linear regression.\n",
        "  \n",
        "2. **GPU Acceleration**: Deep learning libraries are optimized to run on GPUs, which can significantly speed up computations, especially for large datasets.\n",
        "\n",
        "#### Cons:\n",
        "\n",
        "1. **Overhead**: For a simple linear regression, using deep learning libraries might be overkill. They come with overhead both in terms of computational requirements and code complexity.\n",
        "\n",
        "2. **Learning Curve**: These libraries have a steeper learning curve compared to `scikit-learn` or `statsmodels` if one is just aiming for linear regression.\n",
        "\n",
        "In summary, the best choice depends on the user's needs. If you are looking for detailed statistics and diagnostics, `statsmodels` is your go-to. If you're aiming for predictive modeling within a larger machine learning pipeline, `scikit-learn` is more appropriate. For complex models or if you're already working within a deep learning framework, TensorFlow or PyTorch might be suitable.\n",
        "\n",
        "Here, we will use `statsmodels` in this short tutorial."
      ],
      "metadata": {
        "id": "cLR2nMiZCDqR"
      },
      "id": "cLR2nMiZCDqR"
    },
    {
      "cell_type": "code",
      "metadata": {
        "colab": {
          "base_uri": "https://localhost:8080/",
          "height": 206
        },
        "id": "8Zui1JGMAnM0",
        "outputId": "a8772dfd-a7dc-4279-ea68-13e1cf32fa31"
      },
      "source": [
        "import numpy as np\n",
        "import pandas as pd\n",
        "import matplotlib.pyplot as plt\n",
        "import statsmodels.api as sm\n",
        "from scipy import stats\n",
        "\n",
        "# Setting a random seed for reproducibility\n",
        "np.random.seed(42)\n",
        "\n",
        "# Generating data\n",
        "n = 100\n",
        "X = np.linspace(0, 10, n)\n",
        "e = np.random.normal(0, 2, n)\n",
        "Y = 2 + 3.5*X + e\n",
        "\n",
        "# Creating a DataFrame for better handling\n",
        "data = pd.DataFrame({'X': X, 'Y': Y})\n",
        "\n",
        "data.head()"
      ],
      "id": "8Zui1JGMAnM0",
      "execution_count": 1,
      "outputs": [
        {
          "output_type": "execute_result",
          "data": {
            "text/plain": [
              "         X         Y\n",
              "0  0.00000  2.993428\n",
              "1  0.10101  2.077007\n",
              "2  0.20202  4.002448\n",
              "3  0.30303  6.106666\n",
              "4  0.40404  2.945835"
            ],
            "text/html": [
              "\n",
              "  <div id=\"df-ba02e38b-6140-4bbb-862d-679e8fc83981\" class=\"colab-df-container\">\n",
              "    <div>\n",
              "<style scoped>\n",
              "    .dataframe tbody tr th:only-of-type {\n",
              "        vertical-align: middle;\n",
              "    }\n",
              "\n",
              "    .dataframe tbody tr th {\n",
              "        vertical-align: top;\n",
              "    }\n",
              "\n",
              "    .dataframe thead th {\n",
              "        text-align: right;\n",
              "    }\n",
              "</style>\n",
              "<table border=\"1\" class=\"dataframe\">\n",
              "  <thead>\n",
              "    <tr style=\"text-align: right;\">\n",
              "      <th></th>\n",
              "      <th>X</th>\n",
              "      <th>Y</th>\n",
              "    </tr>\n",
              "  </thead>\n",
              "  <tbody>\n",
              "    <tr>\n",
              "      <th>0</th>\n",
              "      <td>0.00000</td>\n",
              "      <td>2.993428</td>\n",
              "    </tr>\n",
              "    <tr>\n",
              "      <th>1</th>\n",
              "      <td>0.10101</td>\n",
              "      <td>2.077007</td>\n",
              "    </tr>\n",
              "    <tr>\n",
              "      <th>2</th>\n",
              "      <td>0.20202</td>\n",
              "      <td>4.002448</td>\n",
              "    </tr>\n",
              "    <tr>\n",
              "      <th>3</th>\n",
              "      <td>0.30303</td>\n",
              "      <td>6.106666</td>\n",
              "    </tr>\n",
              "    <tr>\n",
              "      <th>4</th>\n",
              "      <td>0.40404</td>\n",
              "      <td>2.945835</td>\n",
              "    </tr>\n",
              "  </tbody>\n",
              "</table>\n",
              "</div>\n",
              "    <div class=\"colab-df-buttons\">\n",
              "\n",
              "  <div class=\"colab-df-container\">\n",
              "    <button class=\"colab-df-convert\" onclick=\"convertToInteractive('df-ba02e38b-6140-4bbb-862d-679e8fc83981')\"\n",
              "            title=\"Convert this dataframe to an interactive table.\"\n",
              "            style=\"display:none;\">\n",
              "\n",
              "  <svg xmlns=\"http://www.w3.org/2000/svg\" height=\"24px\" viewBox=\"0 -960 960 960\">\n",
              "    <path d=\"M120-120v-720h720v720H120Zm60-500h600v-160H180v160Zm220 220h160v-160H400v160Zm0 220h160v-160H400v160ZM180-400h160v-160H180v160Zm440 0h160v-160H620v160ZM180-180h160v-160H180v160Zm440 0h160v-160H620v160Z\"/>\n",
              "  </svg>\n",
              "    </button>\n",
              "\n",
              "  <style>\n",
              "    .colab-df-container {\n",
              "      display:flex;\n",
              "      gap: 12px;\n",
              "    }\n",
              "\n",
              "    .colab-df-convert {\n",
              "      background-color: #E8F0FE;\n",
              "      border: none;\n",
              "      border-radius: 50%;\n",
              "      cursor: pointer;\n",
              "      display: none;\n",
              "      fill: #1967D2;\n",
              "      height: 32px;\n",
              "      padding: 0 0 0 0;\n",
              "      width: 32px;\n",
              "    }\n",
              "\n",
              "    .colab-df-convert:hover {\n",
              "      background-color: #E2EBFA;\n",
              "      box-shadow: 0px 1px 2px rgba(60, 64, 67, 0.3), 0px 1px 3px 1px rgba(60, 64, 67, 0.15);\n",
              "      fill: #174EA6;\n",
              "    }\n",
              "\n",
              "    .colab-df-buttons div {\n",
              "      margin-bottom: 4px;\n",
              "    }\n",
              "\n",
              "    [theme=dark] .colab-df-convert {\n",
              "      background-color: #3B4455;\n",
              "      fill: #D2E3FC;\n",
              "    }\n",
              "\n",
              "    [theme=dark] .colab-df-convert:hover {\n",
              "      background-color: #434B5C;\n",
              "      box-shadow: 0px 1px 3px 1px rgba(0, 0, 0, 0.15);\n",
              "      filter: drop-shadow(0px 1px 2px rgba(0, 0, 0, 0.3));\n",
              "      fill: #FFFFFF;\n",
              "    }\n",
              "  </style>\n",
              "\n",
              "    <script>\n",
              "      const buttonEl =\n",
              "        document.querySelector('#df-ba02e38b-6140-4bbb-862d-679e8fc83981 button.colab-df-convert');\n",
              "      buttonEl.style.display =\n",
              "        google.colab.kernel.accessAllowed ? 'block' : 'none';\n",
              "\n",
              "      async function convertToInteractive(key) {\n",
              "        const element = document.querySelector('#df-ba02e38b-6140-4bbb-862d-679e8fc83981');\n",
              "        const dataTable =\n",
              "          await google.colab.kernel.invokeFunction('convertToInteractive',\n",
              "                                                    [key], {});\n",
              "        if (!dataTable) return;\n",
              "\n",
              "        const docLinkHtml = 'Like what you see? Visit the ' +\n",
              "          '<a target=\"_blank\" href=https://colab.research.google.com/notebooks/data_table.ipynb>data table notebook</a>'\n",
              "          + ' to learn more about interactive tables.';\n",
              "        element.innerHTML = '';\n",
              "        dataTable['output_type'] = 'display_data';\n",
              "        await google.colab.output.renderOutput(dataTable, element);\n",
              "        const docLink = document.createElement('div');\n",
              "        docLink.innerHTML = docLinkHtml;\n",
              "        element.appendChild(docLink);\n",
              "      }\n",
              "    </script>\n",
              "  </div>\n",
              "\n",
              "\n",
              "<div id=\"df-85e13409-eebe-443d-9c55-1d17046d67fd\">\n",
              "  <button class=\"colab-df-quickchart\" onclick=\"quickchart('df-85e13409-eebe-443d-9c55-1d17046d67fd')\"\n",
              "            title=\"Suggest charts.\"\n",
              "            style=\"display:none;\">\n",
              "\n",
              "<svg xmlns=\"http://www.w3.org/2000/svg\" height=\"24px\"viewBox=\"0 0 24 24\"\n",
              "     width=\"24px\">\n",
              "    <g>\n",
              "        <path d=\"M19 3H5c-1.1 0-2 .9-2 2v14c0 1.1.9 2 2 2h14c1.1 0 2-.9 2-2V5c0-1.1-.9-2-2-2zM9 17H7v-7h2v7zm4 0h-2V7h2v10zm4 0h-2v-4h2v4z\"/>\n",
              "    </g>\n",
              "</svg>\n",
              "  </button>\n",
              "\n",
              "<style>\n",
              "  .colab-df-quickchart {\n",
              "      --bg-color: #E8F0FE;\n",
              "      --fill-color: #1967D2;\n",
              "      --hover-bg-color: #E2EBFA;\n",
              "      --hover-fill-color: #174EA6;\n",
              "      --disabled-fill-color: #AAA;\n",
              "      --disabled-bg-color: #DDD;\n",
              "  }\n",
              "\n",
              "  [theme=dark] .colab-df-quickchart {\n",
              "      --bg-color: #3B4455;\n",
              "      --fill-color: #D2E3FC;\n",
              "      --hover-bg-color: #434B5C;\n",
              "      --hover-fill-color: #FFFFFF;\n",
              "      --disabled-bg-color: #3B4455;\n",
              "      --disabled-fill-color: #666;\n",
              "  }\n",
              "\n",
              "  .colab-df-quickchart {\n",
              "    background-color: var(--bg-color);\n",
              "    border: none;\n",
              "    border-radius: 50%;\n",
              "    cursor: pointer;\n",
              "    display: none;\n",
              "    fill: var(--fill-color);\n",
              "    height: 32px;\n",
              "    padding: 0;\n",
              "    width: 32px;\n",
              "  }\n",
              "\n",
              "  .colab-df-quickchart:hover {\n",
              "    background-color: var(--hover-bg-color);\n",
              "    box-shadow: 0 1px 2px rgba(60, 64, 67, 0.3), 0 1px 3px 1px rgba(60, 64, 67, 0.15);\n",
              "    fill: var(--button-hover-fill-color);\n",
              "  }\n",
              "\n",
              "  .colab-df-quickchart-complete:disabled,\n",
              "  .colab-df-quickchart-complete:disabled:hover {\n",
              "    background-color: var(--disabled-bg-color);\n",
              "    fill: var(--disabled-fill-color);\n",
              "    box-shadow: none;\n",
              "  }\n",
              "\n",
              "  .colab-df-spinner {\n",
              "    border: 2px solid var(--fill-color);\n",
              "    border-color: transparent;\n",
              "    border-bottom-color: var(--fill-color);\n",
              "    animation:\n",
              "      spin 1s steps(1) infinite;\n",
              "  }\n",
              "\n",
              "  @keyframes spin {\n",
              "    0% {\n",
              "      border-color: transparent;\n",
              "      border-bottom-color: var(--fill-color);\n",
              "      border-left-color: var(--fill-color);\n",
              "    }\n",
              "    20% {\n",
              "      border-color: transparent;\n",
              "      border-left-color: var(--fill-color);\n",
              "      border-top-color: var(--fill-color);\n",
              "    }\n",
              "    30% {\n",
              "      border-color: transparent;\n",
              "      border-left-color: var(--fill-color);\n",
              "      border-top-color: var(--fill-color);\n",
              "      border-right-color: var(--fill-color);\n",
              "    }\n",
              "    40% {\n",
              "      border-color: transparent;\n",
              "      border-right-color: var(--fill-color);\n",
              "      border-top-color: var(--fill-color);\n",
              "    }\n",
              "    60% {\n",
              "      border-color: transparent;\n",
              "      border-right-color: var(--fill-color);\n",
              "    }\n",
              "    80% {\n",
              "      border-color: transparent;\n",
              "      border-right-color: var(--fill-color);\n",
              "      border-bottom-color: var(--fill-color);\n",
              "    }\n",
              "    90% {\n",
              "      border-color: transparent;\n",
              "      border-bottom-color: var(--fill-color);\n",
              "    }\n",
              "  }\n",
              "</style>\n",
              "\n",
              "  <script>\n",
              "    async function quickchart(key) {\n",
              "      const quickchartButtonEl =\n",
              "        document.querySelector('#' + key + ' button');\n",
              "      quickchartButtonEl.disabled = true;  // To prevent multiple clicks.\n",
              "      quickchartButtonEl.classList.add('colab-df-spinner');\n",
              "      try {\n",
              "        const charts = await google.colab.kernel.invokeFunction(\n",
              "            'suggestCharts', [key], {});\n",
              "      } catch (error) {\n",
              "        console.error('Error during call to suggestCharts:', error);\n",
              "      }\n",
              "      quickchartButtonEl.classList.remove('colab-df-spinner');\n",
              "      quickchartButtonEl.classList.add('colab-df-quickchart-complete');\n",
              "    }\n",
              "    (() => {\n",
              "      let quickchartButtonEl =\n",
              "        document.querySelector('#df-85e13409-eebe-443d-9c55-1d17046d67fd button');\n",
              "      quickchartButtonEl.style.display =\n",
              "        google.colab.kernel.accessAllowed ? 'block' : 'none';\n",
              "    })();\n",
              "  </script>\n",
              "</div>\n",
              "    </div>\n",
              "  </div>\n"
            ]
          },
          "metadata": {},
          "execution_count": 1
        }
      ]
    },
    {
      "cell_type": "markdown",
      "metadata": {
        "id": "X77hOIQnAnM0"
      },
      "source": [
        "### Fitting Simple Linear Regression"
      ],
      "id": "X77hOIQnAnM0"
    },
    {
      "cell_type": "code",
      "metadata": {
        "colab": {
          "base_uri": "https://localhost:8080/",
          "height": 452
        },
        "id": "hvD78-AWAnM1",
        "outputId": "ddff97aa-ec45-4d5d-fe73-a466a3e97c32"
      },
      "source": [
        "# Adding a constant term for the intercept\n",
        "X_const = sm.add_constant(X)\n",
        "\n",
        "# Fitting a simple linear regression model\n",
        "model = sm.OLS(Y, X_const).fit()\n",
        "\n",
        "# Extracting the predicted values\n",
        "data['Predicted_Y'] = model.predict(X_const)\n",
        "\n",
        "model.summary()"
      ],
      "id": "hvD78-AWAnM1",
      "execution_count": 2,
      "outputs": [
        {
          "output_type": "execute_result",
          "data": {
            "text/plain": [
              "<class 'statsmodels.iolib.summary.Summary'>\n",
              "\"\"\"\n",
              "                            OLS Regression Results                            \n",
              "==============================================================================\n",
              "Dep. Variable:                      y   R-squared:                       0.970\n",
              "Model:                            OLS   Adj. R-squared:                  0.970\n",
              "Method:                 Least Squares   F-statistic:                     3181.\n",
              "Date:                Wed, 06 Sep 2023   Prob (F-statistic):           1.63e-76\n",
              "Time:                        17:25:56   Log-Likelihood:                -200.97\n",
              "No. Observations:                 100   AIC:                             405.9\n",
              "Df Residuals:                      98   BIC:                             411.2\n",
              "Df Model:                           1                                         \n",
              "Covariance Type:            nonrobust                                         \n",
              "==============================================================================\n",
              "                 coef    std err          t      P>|t|      [0.025      0.975]\n",
              "------------------------------------------------------------------------------\n",
              "const          1.6544      0.362      4.570      0.000       0.936       2.373\n",
              "x1             3.5276      0.063     56.397      0.000       3.403       3.652\n",
              "==============================================================================\n",
              "Omnibus:                        0.521   Durbin-Watson:                   2.042\n",
              "Prob(Omnibus):                  0.771   Jarque-Bera (JB):                0.518\n",
              "Skew:                          -0.167   Prob(JB):                        0.772\n",
              "Kurtosis:                       2.885   Cond. No.                         11.7\n",
              "==============================================================================\n",
              "\n",
              "Notes:\n",
              "[1] Standard Errors assume that the covariance matrix of the errors is correctly specified.\n",
              "\"\"\""
            ],
            "text/html": [
              "<table class=\"simpletable\">\n",
              "<caption>OLS Regression Results</caption>\n",
              "<tr>\n",
              "  <th>Dep. Variable:</th>            <td>y</td>        <th>  R-squared:         </th> <td>   0.970</td>\n",
              "</tr>\n",
              "<tr>\n",
              "  <th>Model:</th>                   <td>OLS</td>       <th>  Adj. R-squared:    </th> <td>   0.970</td>\n",
              "</tr>\n",
              "<tr>\n",
              "  <th>Method:</th>             <td>Least Squares</td>  <th>  F-statistic:       </th> <td>   3181.</td>\n",
              "</tr>\n",
              "<tr>\n",
              "  <th>Date:</th>             <td>Wed, 06 Sep 2023</td> <th>  Prob (F-statistic):</th> <td>1.63e-76</td>\n",
              "</tr>\n",
              "<tr>\n",
              "  <th>Time:</th>                 <td>17:25:56</td>     <th>  Log-Likelihood:    </th> <td> -200.97</td>\n",
              "</tr>\n",
              "<tr>\n",
              "  <th>No. Observations:</th>      <td>   100</td>      <th>  AIC:               </th> <td>   405.9</td>\n",
              "</tr>\n",
              "<tr>\n",
              "  <th>Df Residuals:</th>          <td>    98</td>      <th>  BIC:               </th> <td>   411.2</td>\n",
              "</tr>\n",
              "<tr>\n",
              "  <th>Df Model:</th>              <td>     1</td>      <th>                     </th>     <td> </td>   \n",
              "</tr>\n",
              "<tr>\n",
              "  <th>Covariance Type:</th>      <td>nonrobust</td>    <th>                     </th>     <td> </td>   \n",
              "</tr>\n",
              "</table>\n",
              "<table class=\"simpletable\">\n",
              "<tr>\n",
              "    <td></td>       <th>coef</th>     <th>std err</th>      <th>t</th>      <th>P>|t|</th>  <th>[0.025</th>    <th>0.975]</th>  \n",
              "</tr>\n",
              "<tr>\n",
              "  <th>const</th> <td>    1.6544</td> <td>    0.362</td> <td>    4.570</td> <td> 0.000</td> <td>    0.936</td> <td>    2.373</td>\n",
              "</tr>\n",
              "<tr>\n",
              "  <th>x1</th>    <td>    3.5276</td> <td>    0.063</td> <td>   56.397</td> <td> 0.000</td> <td>    3.403</td> <td>    3.652</td>\n",
              "</tr>\n",
              "</table>\n",
              "<table class=\"simpletable\">\n",
              "<tr>\n",
              "  <th>Omnibus:</th>       <td> 0.521</td> <th>  Durbin-Watson:     </th> <td>   2.042</td>\n",
              "</tr>\n",
              "<tr>\n",
              "  <th>Prob(Omnibus):</th> <td> 0.771</td> <th>  Jarque-Bera (JB):  </th> <td>   0.518</td>\n",
              "</tr>\n",
              "<tr>\n",
              "  <th>Skew:</th>          <td>-0.167</td> <th>  Prob(JB):          </th> <td>   0.772</td>\n",
              "</tr>\n",
              "<tr>\n",
              "  <th>Kurtosis:</th>      <td> 2.885</td> <th>  Cond. No.          </th> <td>    11.7</td>\n",
              "</tr>\n",
              "</table><br/><br/>Notes:<br/>[1] Standard Errors assume that the covariance matrix of the errors is correctly specified."
            ],
            "text/latex": "\\begin{center}\n\\begin{tabular}{lclc}\n\\toprule\n\\textbf{Dep. Variable:}    &        y         & \\textbf{  R-squared:         } &     0.970   \\\\\n\\textbf{Model:}            &       OLS        & \\textbf{  Adj. R-squared:    } &     0.970   \\\\\n\\textbf{Method:}           &  Least Squares   & \\textbf{  F-statistic:       } &     3181.   \\\\\n\\textbf{Date:}             & Wed, 06 Sep 2023 & \\textbf{  Prob (F-statistic):} &  1.63e-76   \\\\\n\\textbf{Time:}             &     17:25:56     & \\textbf{  Log-Likelihood:    } &   -200.97   \\\\\n\\textbf{No. Observations:} &         100      & \\textbf{  AIC:               } &     405.9   \\\\\n\\textbf{Df Residuals:}     &          98      & \\textbf{  BIC:               } &     411.2   \\\\\n\\textbf{Df Model:}         &           1      & \\textbf{                     } &             \\\\\n\\textbf{Covariance Type:}  &    nonrobust     & \\textbf{                     } &             \\\\\n\\bottomrule\n\\end{tabular}\n\\begin{tabular}{lcccccc}\n               & \\textbf{coef} & \\textbf{std err} & \\textbf{t} & \\textbf{P$> |$t$|$} & \\textbf{[0.025} & \\textbf{0.975]}  \\\\\n\\midrule\n\\textbf{const} &       1.6544  &        0.362     &     4.570  &         0.000        &        0.936    &        2.373     \\\\\n\\textbf{x1}    &       3.5276  &        0.063     &    56.397  &         0.000        &        3.403    &        3.652     \\\\\n\\bottomrule\n\\end{tabular}\n\\begin{tabular}{lclc}\n\\textbf{Omnibus:}       &  0.521 & \\textbf{  Durbin-Watson:     } &    2.042  \\\\\n\\textbf{Prob(Omnibus):} &  0.771 & \\textbf{  Jarque-Bera (JB):  } &    0.518  \\\\\n\\textbf{Skew:}          & -0.167 & \\textbf{  Prob(JB):          } &    0.772  \\\\\n\\textbf{Kurtosis:}      &  2.885 & \\textbf{  Cond. No.          } &     11.7  \\\\\n\\bottomrule\n\\end{tabular}\n%\\caption{OLS Regression Results}\n\\end{center}\n\nNotes: \\newline\n [1] Standard Errors assume that the covariance matrix of the errors is correctly specified."
          },
          "metadata": {},
          "execution_count": 2
        }
      ]
    },
    {
      "cell_type": "markdown",
      "source": [
        "   \n",
        " **Goodness-of-Fit and Model Information**:\n",
        "   - **Log-Likelihood:**  This measure indicates how well the model fits the observed data; a higher value indicates a better fit.\n",
        "   - **AIC:** The Akaike Information Criterion (AIC) value  can be used to compare the goodness of fit of different models, penalizing for model complexity. Lower values are better.\n",
        "   - **BIC:** The Bayesian Information Criterion (BIC) is  used to compare models but with a sterner penalty for complexity. Again, lower is better.\n",
        "   - **Df Residuals:** The number of degrees of freedom  is calculated as (Number of observations - Number of parameters in the model).\n",
        "\n",
        " **Test Statistics**:\n",
        "   - **F-statistic:**  This statistic tests the hypothesis that all coefficients (except the intercept) are equal to zero. The very high value suggests that at least one predictor variable is statistically significant.\n",
        "   - **Prob (F-statistic):** The associated p-value, which is extremely close to zero. This confirms the above: the model's predictors (in this case, just \\(x1\\)) are significant.\n",
        "   - **Omnibus:** Tests the assumption of the homogeneity of variance (homoscedasticity) of the residuals. A value close to zero suggests non-uniform variance.\n",
        "   - **Prob(Omnibus):** The associated p-value. A high p-value (generally > 0.05) suggests that the residuals have uniform variance across predicted values.\n",
        "   - **Durbin-Watson:**  which tests for autocorrelation in the residuals.\n",
        "   - **Jarque-Bera (JB):** Tests the assumption that the residuals are normally distributed.\n",
        "   - **Prob(JB):** The associated p-value . A high p-value suggests that the residuals are normally distributed.\n",
        "   - **Skew:** Measures the skewness of the distribution of the residuals. A value close to zero suggests that residuals are symmetrically distributed.\n",
        "   - **Kurtosis:** Measures the 'tailedness' of the distribution of the residuals.\n",
        "   - **Cond. No.:** The condition number is \\(11.7\\). Higher values may indicate multicollinearity or other numerical problems.\n",
        "\n",
        " **Coefficients**:\n",
        "   - **const:**\n",
        "   - **x1:**\n",
        "\n",
        "**Summary**:\n",
        "The OLS regression results suggest that:\n",
        "- The predictor variable \\(x1\\) is a strong and significant predictor of the dependent variable.\n",
        "- The model fits the data well, with both AIC and BIC providing relatively low values for model comparisons.\n",
        "- Residuals seem to have uniform variance across predicted values, are not autocorrelated, and are approximately normally distributed.\n",
        "- There's no concern of multicollinearity as only one predictor is involved.\n",
        "\n",
        "In terms of modeling, **this is a strong and clear result.**"
      ],
      "metadata": {
        "id": "pDE1GVhukdRd"
      },
      "id": "pDE1GVhukdRd"
    },
    {
      "cell_type": "markdown",
      "metadata": {
        "id": "EZVjDsFKAnM1"
      },
      "source": [
        "### Plotting Predicted vs. Sample Values"
      ],
      "id": "EZVjDsFKAnM1"
    },
    {
      "cell_type": "code",
      "metadata": {
        "colab": {
          "base_uri": "https://localhost:8080/",
          "height": 564
        },
        "id": "K0k-zQioAnM2",
        "outputId": "4e688190-fa6c-47ca-b004-39dee27d3d0b"
      },
      "source": [
        "# Plotting the observed vs. predicted values\n",
        "plt.figure(figsize=(10, 6))\n",
        "plt.scatter(data['X'], data['Y'], color='blue', label='Observed')\n",
        "plt.plot(data['X'], data['Predicted_Y'], color='red', label='Predicted')\n",
        "plt.title('Observed vs. Predicted Values')\n",
        "plt.xlabel('X')\n",
        "plt.ylabel('Y')\n",
        "plt.legend()\n",
        "plt.grid(True)\n",
        "plt.show()"
      ],
      "id": "K0k-zQioAnM2",
      "execution_count": 3,
      "outputs": [
        {
          "output_type": "display_data",
          "data": {
            "text/plain": [
              "<Figure size 1000x600 with 1 Axes>"
            ],
            "image/png": "[encoded data removed]"
          },
          "metadata": {}
        }
      ]
    },
    {
      "cell_type": "markdown",
      "metadata": {
        "id": "EOEF4vkuAnM3"
      },
      "source": [
        "### Evaluating Error Variance"
      ],
      "id": "EOEF4vkuAnM3"
    },
    {
      "cell_type": "code",
      "metadata": {
        "colab": {
          "base_uri": "https://localhost:8080/"
        },
        "id": "ZMp5_tnvAnM3",
        "outputId": "84109f66-90a5-42ce-b6e8-1e63d6c28b43"
      },
      "source": [
        "# Calculating the Residual Sum of Squares (RSS)\n",
        "RSS = np.sum((data['Y'] - data['Predicted_Y'])**2)\n",
        "\n",
        "# Calculating the error variance\n",
        "error_variance = RSS / (n - 2)\n",
        "error_variance"
      ],
      "id": "ZMp5_tnvAnM3",
      "execution_count": 4,
      "outputs": [
        {
          "output_type": "execute_result",
          "data": {
            "text/plain": [
              "3.326141687747258"
            ]
          },
          "metadata": {},
          "execution_count": 4
        }
      ]
    },
    {
      "cell_type": "markdown",
      "metadata": {
        "id": "XBRw_Hh6AnM3"
      },
      "source": [
        "### Evaluating SE$(\\beta_1)$  and  SE$(\\beta_0)$"
      ],
      "id": "XBRw_Hh6AnM3"
    },
    {
      "cell_type": "code",
      "metadata": {
        "colab": {
          "base_uri": "https://localhost:8080/"
        },
        "id": "3fq0d43yAnM4",
        "outputId": "0e682d7d-d00d-4793-dd6e-9cff79dae5cd"
      },
      "source": [
        "# Calculating SE(beta_1)\n",
        "SE_beta1 = np.sqrt(error_variance / np.sum((data['X'] - data['X'].mean())**2))\n",
        "\n",
        "# Calculating SE(beta_0)\n",
        "SE_beta0 = np.sqrt(error_variance * (1/n + (data['X'].mean()**2) / np.sum((data['X'] - data['X'].mean())**2)))\n",
        "\n",
        "SE_beta1, SE_beta0"
      ],
      "id": "3fq0d43yAnM4",
      "execution_count": 5,
      "outputs": [
        {
          "output_type": "execute_result",
          "data": {
            "text/plain": [
              "(0.06254864503003095, 0.3620355531640407)"
            ]
          },
          "metadata": {},
          "execution_count": 5
        }
      ]
    },
    {
      "cell_type": "markdown",
      "metadata": {
        "id": "nJIJcyBgAnM5"
      },
      "source": [
        "### Finding the 95% Confidence Interval for $\\beta_1 $"
      ],
      "id": "nJIJcyBgAnM5"
    },
    {
      "cell_type": "code",
      "metadata": {
        "colab": {
          "base_uri": "https://localhost:8080/"
        },
        "id": "4XX2cO3aAnM5",
        "outputId": "b89805b2-14c8-429e-b2fb-f47556eab030"
      },
      "source": [
        "# Finding the t critical value for 95% CI with n-2 degrees of freedom\n",
        "alpha = 0.05\n",
        "t_critical = stats.t.ppf(1 - alpha/2, n-2)\n",
        "\n",
        "# Calculating the confidence interval for beta_1\n",
        "CI_beta1_lower = model.params[1] - t_critical * SE_beta1\n",
        "CI_beta1_upper = model.params[1] + t_critical * SE_beta1\n",
        "\n",
        "CI_beta1_lower, CI_beta1_upper"
      ],
      "id": "4XX2cO3aAnM5",
      "execution_count": 6,
      "outputs": [
        {
          "output_type": "execute_result",
          "data": {
            "text/plain": [
              "(3.403460784292728, 3.6517122850538963)"
            ]
          },
          "metadata": {},
          "execution_count": 6
        }
      ]
    },
    {
      "cell_type": "markdown",
      "metadata": {
        "id": "TPjwEjh9AnM5"
      },
      "source": [
        "### Why Use the Student's t-distribution in Regression Analysis?\n",
        "\n",
        "In regression analysis, when estimating the coefficients and their confidence intervals, we're dealing with estimates derived from sample data, not the entire population. When the population variance is unknown (as is often the case in regression), the distribution of the sample mean (or coefficient estimates) doesn't follow a normal distribution, especially for small sample sizes. Instead, it follows the *Student's t-distribution*.\n",
        "\n",
        "The t-distribution is similar in shape to the normal distribution but has heavier tails. The heaviness of the tails decreases as the sample size increases, and the t-distribution approaches the normal distribution.\n",
        "\n",
        "## Probability density function of student's t-distribution\n",
        "\n",
        "![Probability density function](https://upload.wikimedia.org/wikipedia/commons/thumb/4/41/Student_t_pdf.svg/650px-Student_t_pdf.svg.png)\n",
        "\n",
        "The main reasons for using the t-distribution are:\n",
        "\n",
        "1. **Unknown Population Variance**: In regression, we don't know the true variance of the error terms in the population. We estimate it using our sample. This estimated variance introduces additional uncertainty, which is captured by the t-distribution.\n",
        "  \n",
        "2. **Small Sample Size**: For small sample sizes, the t-distribution provides a more accurate representation of the uncertainty in our coefficient estimates. As the sample size grows, the t-distribution becomes closer to the normal distribution.\n",
        "\n",
        "### Comparing t-critical with z-critical:\n",
        "\n",
        "For large sample sizes, the critical value from the t-distribution `t-critical` approaches the critical value from the standard normal distribution `z-critical`. For a 95% confidence interval:\n",
        "- `z_critical` is approximately 1.96 (from the standard normal distribution).\n",
        "- `t_critical` depends on the sample size (or degrees of freedom).\n",
        "\n",
        "In our dataset with 100 observations, `t_critical` is approximately $1.9845$, which is very close to `z_critical` = 1.96 . The difference would be more pronounced with smaller sample sizes."
      ],
      "id": "TPjwEjh9AnM5"
    },
    {
      "cell_type": "code",
      "metadata": {
        "colab": {
          "base_uri": "https://localhost:8080/"
        },
        "id": "J4BoQy5jAnM5",
        "outputId": "ea3b6813-cee6-4a46-bc87-f50282db45d8"
      },
      "source": [
        "# Computing z-critical for 95% CI from standard normal distribution\n",
        "z_critical = stats.norm.ppf(1 - alpha/2)\n",
        "\n",
        "z_critical, t_critical"
      ],
      "id": "J4BoQy5jAnM5",
      "execution_count": 7,
      "outputs": [
        {
          "output_type": "execute_result",
          "data": {
            "text/plain": [
              "(1.959963984540054, 1.984467454426692)"
            ]
          },
          "metadata": {},
          "execution_count": 7
        }
      ]
    },
    {
      "cell_type": "markdown",
      "source": [
        "# `stats.norm.ppf` function\n",
        "\n",
        "The function `stats.norm.ppf` refers to the Percent-Point Function (PPF) or the Quantile Function for the normal distribution. It is essentially the inverse of the Cumulative Distribution Function (CDF). Given a probability $ p$, the PPF gives the value $x$  such that:\n",
        "\n",
        "$$ P(X \\leq x) = p $$\n",
        "\n",
        "For the standard normal distribution:\n",
        "\n",
        "- `stats.norm.ppf(0.5)` will return \\( 0 \\) because the median (50th percentile) of the standard normal distribution is \\( 0 \\).\n",
        "- `stats.norm.ppf(0.975)` will return approximately \\( 1.96 \\) because about 97.5% of the data in a standard normal distribution lie below \\( 1.96 \\).\n",
        "\n",
        "### Usage:\n",
        "\n",
        "``` python\n",
        "from scipy import stats\n",
        "\n",
        "# Get the 95th percentile of the standard normal distribution\n",
        "quantile_95 = stats.norm.ppf(0.95)\n",
        "print(quantile_95)\n",
        "```\n",
        "\n",
        "In the context of hypothesis testing, the PPF function is particularly useful for determining critical values. For instance, for a two-sided test at the 0.05 significance level, the critical z-scores are\n",
        "$$ z = \\pm \\text{stats.norm.ppf}(1 - 0.025) $$,\n",
        " which are approximately $\\pm 1.96 $."
      ],
      "metadata": {
        "id": "87eMF7UAEuCU"
      },
      "id": "87eMF7UAEuCU"
    },
    {
      "cell_type": "code",
      "source": [
        "from scipy import stats\n",
        "\n",
        "# Get the 95th percentile of the standard normal distribution\n",
        "quantile_95 = stats.norm.ppf(0.95)\n",
        "print(quantile_95)\n",
        "\n",
        "# Get the 97.5th percentile of the standard normal distribution\n",
        "quantile_975 = stats.norm.ppf(0.975)\n",
        "print(quantile_975)"
      ],
      "metadata": {
        "colab": {
          "base_uri": "https://localhost:8080/"
        },
        "id": "jhgb1cK6mi3j",
        "outputId": "5b48e7e9-3e45-4a6a-fe9d-c18cce069f58"
      },
      "id": "jhgb1cK6mi3j",
      "execution_count": 11,
      "outputs": [
        {
          "output_type": "stream",
          "name": "stdout",
          "text": [
            "1.6448536269514722\n",
            "1.959963984540054\n"
          ]
        }
      ]
    }
  ],
  "metadata": {
    "kernelspec": {
      "display_name": "Python 3",
      "language": "python",
      "name": "python3"
    },
    "language_info": {
      "codemirror_mode": {
        "name": "ipython",
        "version": 3
      },
      "file_extension": ".py",
      "mimetype": "text/x-python",
      "name": "python",
      "nbconvert_exporter": "python",
      "pygments_lexer": "ipython3",
      "version": "3.8.8"
    },
    "colab": {
      "provenance": [],
      "include_colab_link": true
    }
  },
  "nbformat": 4,
  "nbformat_minor": 5
}